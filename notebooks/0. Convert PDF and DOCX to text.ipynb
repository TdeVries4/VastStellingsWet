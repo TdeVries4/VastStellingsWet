{
 "cells": [
  {
   "cell_type": "markdown",
   "metadata": {},
   "source": [
    "(kernel azureml_py38 (python 3.10.11)) Tim"
   ]
  },
  {
   "cell_type": "markdown",
   "metadata": {},
   "source": [
    "Converting PDF to TEXT"
   ]
  },
  {
   "cell_type": "markdown",
   "metadata": {},
   "source": [
    "1. Feedback Nieuwe Vaststellingswet"
   ]
  },
  {
   "cell_type": "markdown",
   "metadata": {},
   "source": [
    "Packages"
   ]
  },
  {
   "cell_type": "code",
   "execution_count": 4,
   "metadata": {},
   "outputs": [],
   "source": [
    "import PyPDF2\n",
    "import pdfplumber"
   ]
  },
  {
   "cell_type": "markdown",
   "metadata": {},
   "source": [
    "Defining PDF to TEXT function"
   ]
  },
  {
   "cell_type": "code",
   "execution_count": 5,
   "metadata": {},
   "outputs": [],
   "source": [
    "\n",
    "def pdf_to_text(file_path):\n",
    "    text = \"\"\n",
    "    with pdfplumber.open(file_path) as pdf:\n",
    "        for page in pdf.pages:\n",
    "            page_text = page.extract_text()\n",
    "\n",
    "            if page_text:\n",
    "                # Filter out specific unwanted text\n",
    "                lines = page_text.split('\\n')\n",
    "                filtered_lines = [line for line in lines if not line.startswith('kst-') and 'ISSN' not in line and \n",
    "                                  's-Gravenhage' not in line and 'Tweede Kamer, vergaderjaar 2024–2025, 36 636, nr. 2 ' not in line]\n",
    "                                    # Op deze manier halen we de footer en de extra footer links onder eruit\n",
    "                page_text = '\\n'.join(filtered_lines)\n",
    "                \n",
    "                text += page_text\n",
    "            text += \"\\n\\n\"  # Separate pages with two newlines\n",
    "\n",
    "    return text"
   ]
  },
  {
   "cell_type": "markdown",
   "metadata": {},
   "source": [
    "Defining input path and output path\n"
   ]
  },
  {
   "cell_type": "code",
   "execution_count": 6,
   "metadata": {},
   "outputs": [
    {
     "name": "stdout",
     "output_type": "stream",
     "text": [
      "0\n",
      "1\n",
      "2\n",
      "3\n",
      "4\n",
      "5\n"
     ]
    }
   ],
   "source": [
    "for index in range(6):\n",
    "    print(index)\n",
    "    # Via deze github kunnen de documenten worden gedownload:\n",
    "    # https://github.com/TdeVries4/VastStellingsWet\n",
    "    # INPUT PATH AANPASSEN NAAR EIGEN PATH\n",
    "    #input_path = f\"Users/R.Musters/wetboek_strafvordering/data/raw/boek_{index+1}.pdf\"\n",
    "    input_path = f\"/home/azureuser/cloudfiles/code/Users/T.deVries4/Vaststellings_Wet/data/raw/FeedbackNieuweVastStellingsWet.pdf\"\n",
    "\n",
    "    data = pdf_to_text(input_path)  \n",
    "\n",
    "    # OUTPUT PATH AANPASSEN NAAR EIGEN PATH\n",
    "    #output_path = f\"Users/R.Musters/wetboek_strafvordering/data/output/boek_{index+1}.txt\"\n",
    "    output_path = f\"/home/azureuser/cloudfiles/code/Users/T.deVries4/Vaststellings_Wet/data/output/FeedbackNieuweVastStellingsWet.txt\"\n",
    "\n",
    "    with open(output_path, 'w') as f:\n",
    "        f.write(data)"
   ]
  },
  {
   "cell_type": "markdown",
   "metadata": {},
   "source": [
    "--------------------------------\n",
    "2. Oude Vaststellingswet"
   ]
  },
  {
   "cell_type": "markdown",
   "metadata": {},
   "source": [
    "Packages"
   ]
  },
  {
   "cell_type": "code",
   "execution_count": 6,
   "metadata": {},
   "outputs": [],
   "source": [
    "import PyPDF2\n",
    "import pdfplumber"
   ]
  },
  {
   "cell_type": "markdown",
   "metadata": {},
   "source": [
    "Defining PDF to TEXT function"
   ]
  },
  {
   "cell_type": "code",
   "execution_count": 7,
   "metadata": {},
   "outputs": [],
   "source": [
    "def pdf_to_text(file_path):\n",
    "    text = \"\"\n",
    "    with pdfplumber.open(file_path) as pdf:\n",
    "        for page in pdf.pages:\n",
    "            page_text = page.extract_text()\n",
    "\n",
    "            if page_text:\n",
    "                # Filter out lines that are page numbers\n",
    "                lines = page_text.split('\\n')\n",
    "                filtered_lines = [line for line in lines if not line.strip().isdigit()]\n",
    "                page_text = '\\n'.join(filtered_lines)\n",
    "                \n",
    "                text += page_text\n",
    "            text += \"\\n\\n\"  # Separate pages with two newlines\n",
    "\n",
    "    return text"
   ]
  },
  {
   "cell_type": "markdown",
   "metadata": {},
   "source": [
    "Defining input path and output path\n"
   ]
  },
  {
   "cell_type": "code",
   "execution_count": 9,
   "metadata": {},
   "outputs": [
    {
     "name": "stdout",
     "output_type": "stream",
     "text": [
      "0\n",
      "1\n",
      "2\n",
      "3\n",
      "4\n",
      "5\n"
     ]
    }
   ],
   "source": [
    "for index in range(6):\n",
    "    print(index)\n",
    "    # Via deze github kunnen de documenten worden gedownload:\n",
    "    # https://github.com/TdeVries4/VastStellingsWet\n",
    "    # INPUT PATH AANPASSEN NAAR EIGEN PATH\n",
    "    #input_path = f\"Users/R.Musters/wetboek_strafvordering/data/raw/boek_{index+1}.pdf\"\n",
    "    input_path = f\"/home/azureuser/cloudfiles/code/Users/T.deVries4/Vaststellings_Wet/data/raw/NieuweVastStellingsWet.pdf\"\n",
    "\n",
    "    data = pdf_to_text(input_path)  \n",
    "\n",
    "    # OUTPUT PATH AANPASSEN NAAR EIGEN PATH\n",
    "    #output_path = f\"Users/R.Musters/wetboek_strafvordering/data/output/boek_{index+1}.txt\"\n",
    "    output_path = f\"/home/azureuser/cloudfiles/code/Users/T.deVries4/Vaststellings_Wet/data/output/NieuweVastStellingsWet.txt\"\n",
    "\n",
    "    with open(output_path, 'w') as f:\n",
    "        f.write(data)"
   ]
  }
 ],
 "metadata": {
  "kernelspec": {
   "display_name": "azureml_py38",
   "language": "python",
   "name": "python3"
  },
  "language_info": {
   "codemirror_mode": {
    "name": "ipython",
    "version": 3
   },
   "file_extension": ".py",
   "mimetype": "text/x-python",
   "name": "python",
   "nbconvert_exporter": "python",
   "pygments_lexer": "ipython3",
   "version": "3.10.11"
  }
 },
 "nbformat": 4,
 "nbformat_minor": 2
}
